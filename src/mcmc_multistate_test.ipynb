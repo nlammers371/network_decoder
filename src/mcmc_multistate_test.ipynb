{
 "cells": [
  {
   "cell_type": "code",
   "execution_count": 1,
   "metadata": {},
   "outputs": [],
   "source": [
    "import time\n",
    "import numpy as np\n",
    "from matplotlib import pyplot as plt\n",
    "from init_mcmc_multi_state import init_mcmc\n",
    "from trace_simulators import simulate_traces\n",
    "from mcmc_helper_functions import *"
   ]
  },
  {
   "cell_type": "code",
   "execution_count": 2,
   "metadata": {},
   "outputs": [
    {
     "data": {
      "text/plain": [
       "[<matplotlib.lines.Line2D at 0x1ee78247358>]"
      ]
     },
     "execution_count": 2,
     "metadata": {},
     "output_type": "execute_result"
    },
    {
     "data": {
      "image/png": "[encoded data removed]",
      "text/plain": [
       "<Figure size 432x288 with 1 Axes>"
      ]
     },
     "metadata": {
      "needs_background": "light"
     },
     "output_type": "display_data"
    }
   ],
   "source": [
    "# transition and emission arrays\n",
    "A = np.array([[.9, .3, 0],\n",
    "              [.1, .5, .5],\n",
    "              [0, .2, .5]])\n",
    "\n",
    "E = np.array([[.9,.1,0],\n",
    "              [.1,.8,.2],\n",
    "              [0,.1,.8]])\n",
    "\n",
    "# basic trace parameters\n",
    "memory = 7*10 # number of time steps for Pol II to teranscribe gene\n",
    "dT = 20 # time resolution of experimental data\n",
    "tau = 2 # minimum time scale of the system\n",
    "cv_factor = int(dT/tau)\n",
    "# Fix trace length for now\n",
    "trace_len = 1000 # length of simulated trace (time steps)\n",
    "# Number of traces per batch\n",
    "sigma = 20 # stdev of Gaussian noise\n",
    "r = 20 \n",
    "alpha = 14\n",
    "# set priors\n",
    "a_prior = np.ones((3, 3))\n",
    "e_prior = np.ones((3, 3))\n",
    "pi0_prior = np.ones((3))\n",
    "\n",
    "# simulate initiation events\n",
    "fluo_noise, fluo_raw, fluo_unif, system_states, initiation_states = \\\n",
    "simulate_traces(tau,dT,memory,trace_len,A,E,r,sigma,alpha)\n",
    "\n",
    "init_vec = initiation_states.astype(int)\n",
    "# plot\n",
    "fig2, ax2 = plt.subplots()\n",
    "ax2.set_title(\"initiation events\")\n",
    "ax2.plot(initiation_states)"
   ]
  },
  {
   "cell_type": "markdown",
   "metadata": {},
   "source": [
    "## test particle filter"
   ]
  },
  {
   "cell_type": "code",
   "execution_count": 7,
   "metadata": {},
   "outputs": [
    {
     "name": "stdout",
     "output_type": "stream",
     "text": [
      "0.9155511856079102\n"
     ]
    }
   ],
   "source": [
    "start = time.time()\n",
    "particle_array, a_counts, e_counts, p_counts = particle_filter(init_vec, A, E, [.5, .2,.3], 10)\n",
    "print(time.time()-start)"
   ]
  },
  {
   "cell_type": "code",
   "execution_count": 4,
   "metadata": {},
   "outputs": [
    {
     "name": "stderr",
     "output_type": "stream",
     "text": [
      "C:\\Users\\nlamm\\projects\\network_decoder\\venv\\lib\\site-packages\\ipykernel_launcher.py:2: RuntimeWarning: divide by zero encountered in log\n",
      "  \n"
     ]
    },
    {
     "name": "stdout",
     "output_type": "stream",
     "text": [
      "0.20443964004516602\n",
      "0.4607675075531006\n"
     ]
    }
   ],
   "source": [
    "start = time.time()\n",
    "alpha_array = fwd_algorithm(init_vec, np.log(A),np.log(E), np.log([.5, .2, .3]))\n",
    "print(time.time()-start)"
   ]
  },
  {
   "cell_type": "code",
   "execution_count": null,
   "metadata": {},
   "outputs": [],
   "source": []
  }
 ],
 "metadata": {
  "kernelspec": {
   "display_name": "Python 3",
   "language": "python",
   "name": "python3"
  },
  "language_info": {
   "codemirror_mode": {
    "name": "ipython",
    "version": 3
   },
   "file_extension": ".py",
   "mimetype": "text/x-python",
   "name": "python",
   "nbconvert_exporter": "python",
   "pygments_lexer": "ipython3",
   "version": "3.6.5"
  }
 },
 "nbformat": 4,
 "nbformat_minor": 1
}
