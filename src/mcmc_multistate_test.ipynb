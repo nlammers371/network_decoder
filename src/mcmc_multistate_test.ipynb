{
 "cells": [
  {
   "cell_type": "code",
   "execution_count": 11,
   "metadata": {},
   "outputs": [],
   "source": [
    "import time\n",
    "import numpy as np\n",
    "from matplotlib import pyplot as plt\n",
    "from init_mcmc_multi_state import init_mcmc\n",
    "from trace_simulators import simulate_traces_poisson\n",
    "from mcmc_helper_functions import *\n",
    "from numpy.random import gamma\n",
    "from scipy.stats import dirichlet"
   ]
  },
  {
   "cell_type": "code",
   "execution_count": 12,
   "metadata": {},
   "outputs": [
    {
     "data": {
      "text/plain": [
       "[<matplotlib.lines.Line2D at 0x25e4e1a3978>]"
      ]
     },
     "execution_count": 12,
     "metadata": {},
     "output_type": "execute_result"
    },
    {
     "data": {
      "image/png": "[encoded data removed]",
      "text/plain": [
       "<Figure size 432x288 with 1 Axes>"
      ]
     },
     "metadata": {
      "needs_background": "light"
     },
     "output_type": "display_data"
    }
   ],
   "source": [
    "# transition and emission arrays\n",
    "A = np.array([[.9, .3, 0],\n",
    "              [.1, .5, .5],\n",
    "              [0, .2, .5]])\n",
    "\n",
    "lambda_vec = np.array([.1,1,2])\n",
    "\n",
    "# basic trace parameters\n",
    "memory = 7*10 # number of time steps for Pol II to teranscribe gene\n",
    "dT = 20 # time resolution of experimental data\n",
    "tau = 2 # minimum time scale of the system\n",
    "cv_factor = int(dT/tau)\n",
    "# Fix trace length for now\n",
    "trace_len = 500 # length of simulated trace (time steps)\n",
    "# Number of traces per batch\n",
    "sigma = 20 # stdev of Gaussian noise\n",
    "auPolII = 20 \n",
    "alpha = 14\n",
    "# set priors\n",
    "a_prior = np.ones((3, 3))\n",
    "e_prior = np.ones((3, 3))\n",
    "pi0_prior = np.ones((3))\n",
    "\n",
    "# simulate initiation events\n",
    "fluo_noise, fluo_raw, fluo_unif, system_states, initiation_states = \\\n",
    "simulate_traces_poisson(tau,dT,memory,trace_len,A,lambda_vec,auPolII,sigma,alpha)\n",
    "\n",
    "init_vec = initiation_states.astype(int)\n",
    "# plot\n",
    "fig2, ax2 = plt.subplots()\n",
    "ax2.set_title(\"initiation events\")\n",
    "ax2.plot(initiation_states)"
   ]
  },
  {
   "cell_type": "markdown",
   "metadata": {},
   "source": [
    "## test particle filter"
   ]
  },
  {
   "cell_type": "code",
   "execution_count": 13,
   "metadata": {},
   "outputs": [
    {
     "name": "stderr",
     "output_type": "stream",
     "text": [
      "C:\\Users\\nlamm\\projects\\network_decoder\\venv\\lib\\site-packages\\ipykernel_launcher.py:2: RuntimeWarning: divide by zero encountered in log\n",
      "  \n"
     ]
    },
    {
     "name": "stdout",
     "output_type": "stream",
     "text": [
      "0.4805922508239746\n"
     ]
    }
   ],
   "source": [
    "start = time.time()\n",
    "alpha_array = fwd_algorithm(init_vec, np.log(A), lambda_vec, np.log([.5, .2, .3]))\n",
    "print(time.time()-start)"
   ]
  },
  {
   "cell_type": "code",
   "execution_count": 14,
   "metadata": {},
   "outputs": [
    {
     "name": "stderr",
     "output_type": "stream",
     "text": [
      "C:\\Users\\nlamm\\projects\\network_decoder\\venv\\lib\\site-packages\\ipykernel_launcher.py:2: RuntimeWarning: divide by zero encountered in log\n",
      "  \n"
     ]
    },
    {
     "name": "stdout",
     "output_type": "stream",
     "text": [
      "0.5356521606445312\n"
     ]
    }
   ],
   "source": [
    "start = time.time()\n",
    "[beta_array, close] = bkwd_algorithm(init_vec, np.log(A), lambda_vec, np.log([.5, .2, .3]))\n",
    "print(time.time()-start)"
   ]
  },
  {
   "cell_type": "code",
   "execution_count": 15,
   "metadata": {},
   "outputs": [
    {
     "name": "stderr",
     "output_type": "stream",
     "text": [
      "C:\\Users\\nlamm\\projects\\network_decoder\\venv\\lib\\site-packages\\ipykernel_launcher.py:2: RuntimeWarning: divide by zero encountered in log\n",
      "  \n"
     ]
    }
   ],
   "source": [
    "a_counts, lambda_counts, pi0_counts, seq_log_probs, full_seq_probs,visit_counts =  \\\n",
    "empirical_counts(np.log(A), lambda_vec,  np.log([.5, .2, .3]), [init_vec], [alpha_array], [beta_array])"
   ]
  },
  {
   "cell_type": "code",
   "execution_count": 22,
   "metadata": {},
   "outputs": [
    {
     "name": "stdout",
     "output_type": "stream",
     "text": [
      "[[3.69879073e-03 4.88315427e-01 5.07985782e-01]\n",
      " [7.69736338e-03 4.99798237e-01 4.92504399e-01]\n",
      " [5.60582962e-03 4.76711807e-01 5.17682363e-01]\n",
      " [4.34810844e-03 4.83290277e-01 5.12361614e-01]\n",
      " [2.98429291e-03 5.08328118e-01 4.88687589e-01]\n",
      " [1.01698748e-02 5.23386460e-01 4.66443665e-01]\n",
      " [8.96263104e-04 4.93811647e-01 5.05292089e-01]\n",
      " [2.69502365e-03 5.18164564e-01 4.79140413e-01]\n",
      " [1.29787685e-04 4.79738786e-01 5.20131427e-01]\n",
      " [1.69878837e-03 4.63777500e-01 5.34523711e-01]]\n"
     ]
    }
   ],
   "source": [
    "print(dirichlet.rvs(a_counts[:,2]+1,10))"
   ]
  },
  {
   "cell_type": "code",
   "execution_count": null,
   "metadata": {},
   "outputs": [],
   "source": []
  }
 ],
 "metadata": {
  "kernelspec": {
   "display_name": "Python 3",
   "language": "python",
   "name": "python3"
  },
  "language_info": {
   "codemirror_mode": {
    "name": "ipython",
    "version": 3
   },
   "file_extension": ".py",
   "mimetype": "text/x-python",
   "name": "python",
   "nbconvert_exporter": "python",
   "pygments_lexer": "ipython3",
   "version": "3.6.5"
  }
 },
 "nbformat": 4,
 "nbformat_minor": 1
}
